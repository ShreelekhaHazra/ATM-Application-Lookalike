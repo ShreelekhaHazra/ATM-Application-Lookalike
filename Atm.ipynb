{
 "cells": [
  {
   "cell_type": "code",
   "execution_count": 1,
   "id": "11b45fdd-ccd1-40ce-89a3-b436f4d1efff",
   "metadata": {},
   "outputs": [],
   "source": [
    "# ATM application Code\n",
    "class Atm:\n",
    "    #constructor(special func)\n",
    "    def __init__(self):#class k andar koi bhi variables banane k lie we have to create constructor and every name k age self lagayenge\n",
    "        self.pin=''\n",
    "        self.balance=0\n",
    "        print(\"main to execute ho gya\")\n",
    "        self.menu()\n",
    "\n",
    "    def menu(self):\n",
    "        while True:\n",
    "            user_input = input(\"\"\"\n",
    "            Hi, how can I help you?\n",
    "            1. Press 1 to create PIN\n",
    "            2. Press 2 to change PIN\n",
    "            3. Press 3 to check balance\n",
    "            4. Press 4 to withdraw\n",
    "            5. Press anything else to exit\n",
    "            \"\"\")\n",
    "            if user_input == '1':\n",
    "                self.create_pin()\n",
    "            elif user_input == '2':\n",
    "                self.change_pin()\n",
    "            elif user_input == '3':\n",
    "                self.check_balance()\n",
    "            elif user_input == '4':\n",
    "                self.withdraw()\n",
    "            else:\n",
    "                print(\"Exiting...\")\n",
    "                break\n",
    "    def  create_pin(self):\n",
    "        user_pin=input(\"Enter your pin\")\n",
    "        self.pin=user_pin\n",
    "        user_balance=int(input('enter balance'))\n",
    "        self.balance=user_balance\n",
    "        print(\"Pin created successfully\")\n",
    "        \n",
    "    def  change_pin(self):\n",
    "        old_pin=input(\"enter old pin\")\n",
    "        if old_pin==self.pin:\n",
    "            new_pin=input(\"Enter new pin\")\n",
    "            self.pin=new_pin\n",
    "            print(\"pin changed succesfully\")\n",
    "            \n",
    "\n",
    "        else:\n",
    "            print(\"can't change\")\n",
    "            \n",
    "\n",
    "    def check_balance(self):\n",
    "        user_pin=input(\"Enter your pin\")\n",
    "        if user_pin==self.pin:\n",
    "           print(\"your balance is\",self.balance)\n",
    "        else:\n",
    "            print(\"the pin is wrong\")\n",
    "\n",
    "    def withdraw(self):\n",
    "        user_pin=input(\"Enter your pin\")\n",
    "        if user_pin==self.pin:\n",
    "            amount=int(input(\"Enter the amount\"))\n",
    "            if amount <= self.balance:\n",
    "                self.balance=self.balance-amount\n",
    "                print()\n",
    "                print(\"withdrawl succesful.Now balance is\",self.balance)\n",
    "                \n",
    "            else:\n",
    "                print(\"amount is lower than balance\")\n",
    "        else:\n",
    "            print(\"the pin is wrong\")\n",
    "        "
   ]
  },
  {
   "cell_type": "code",
   "execution_count": null,
   "id": "48e6eb1b-9caf-4446-9051-d1e6667acb9d",
   "metadata": {},
   "outputs": [
    {
     "name": "stdout",
     "output_type": "stream",
     "text": [
      "main to execute ho gya\n"
     ]
    },
    {
     "name": "stdin",
     "output_type": "stream",
     "text": [
      "\n",
      "            Hi, how can I help you?\n",
      "            1. Press 1 to create PIN\n",
      "            2. Press 2 to change PIN\n",
      "            3. Press 3 to check balance\n",
      "            4. Press 4 to withdraw\n",
      "            5. Press anything else to exit\n",
      "             1\n",
      "Enter your pin 2345\n",
      "enter balance 45000\n"
     ]
    },
    {
     "name": "stdout",
     "output_type": "stream",
     "text": [
      "Pin created successfully\n"
     ]
    },
    {
     "name": "stdin",
     "output_type": "stream",
     "text": [
      "\n",
      "            Hi, how can I help you?\n",
      "            1. Press 1 to create PIN\n",
      "            2. Press 2 to change PIN\n",
      "            3. Press 3 to check balance\n",
      "            4. Press 4 to withdraw\n",
      "            5. Press anything else to exit\n",
      "             2\n",
      "enter old pin 2345\n",
      "Enter new pin 1234\n"
     ]
    },
    {
     "name": "stdout",
     "output_type": "stream",
     "text": [
      "pin changed succesfully\n"
     ]
    },
    {
     "name": "stdin",
     "output_type": "stream",
     "text": [
      "\n",
      "            Hi, how can I help you?\n",
      "            1. Press 1 to create PIN\n",
      "            2. Press 2 to change PIN\n",
      "            3. Press 3 to check balance\n",
      "            4. Press 4 to withdraw\n",
      "            5. Press anything else to exit\n",
      "             3\n",
      "Enter your pin 1234\n"
     ]
    },
    {
     "name": "stdout",
     "output_type": "stream",
     "text": [
      "your balance is 45000\n"
     ]
    },
    {
     "name": "stdin",
     "output_type": "stream",
     "text": [
      "\n",
      "            Hi, how can I help you?\n",
      "            1. Press 1 to create PIN\n",
      "            2. Press 2 to change PIN\n",
      "            3. Press 3 to check balance\n",
      "            4. Press 4 to withdraw\n",
      "            5. Press anything else to exit\n",
      "             4\n",
      "Enter your pin 1234\n",
      "Enter the amount 10000\n"
     ]
    },
    {
     "name": "stdout",
     "output_type": "stream",
     "text": [
      "\n",
      "withdrawl succesful.Now balance is 35000\n"
     ]
    }
   ],
   "source": [
    "atm=Atm()"
   ]
  },
  {
   "cell_type": "code",
   "execution_count": null,
   "id": "96ec0bb9-d4e6-4827-a453-eda8861db28e",
   "metadata": {},
   "outputs": [],
   "source": []
  }
 ],
 "metadata": {
  "kernelspec": {
   "display_name": "Python 3 (ipykernel)",
   "language": "python",
   "name": "python3"
  },
  "language_info": {
   "codemirror_mode": {
    "name": "ipython",
    "version": 3
   },
   "file_extension": ".py",
   "mimetype": "text/x-python",
   "name": "python",
   "nbconvert_exporter": "python",
   "pygments_lexer": "ipython3",
   "version": "3.12.4"
  }
 },
 "nbformat": 4,
 "nbformat_minor": 5
}
